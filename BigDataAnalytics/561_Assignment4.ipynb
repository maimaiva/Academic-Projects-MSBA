{
  "nbformat": 4,
  "nbformat_minor": 0,
  "metadata": {
    "colab": {
      "name": "561_Assignment4.ipynb",
      "provenance": [],
      "collapsed_sections": []
    },
    "kernelspec": {
      "name": "python3",
      "display_name": "Python 3"
    },
    "language_info": {
      "name": "python"
    }
  },
  "cells": [
    {
      "cell_type": "markdown",
      "metadata": {
        "id": "Z3v2E49sNOZc"
      },
      "source": [
        "## HW4\n",
        "\n",
        "1. Import the Iris dataset.\n",
        "2. Build a K-means model to classify the species of Iris. You can choose a k value randomly\n",
        "at this step.\n",
        "3. Report the original performance using Silhouette score.\n",
        "4. Try to improve the performance of the original model by trying at least 10 different k\n",
        "values.\n",
        "5. Select the best k based on step 4 and print out the following sentence in your code:\n",
        "“k=xx gives the best performance, Silhouette =xx \"\n",
        "(replace xx with your own numbers) \\\\\n",
        "\n",
        "A tutorial of spark can be found at:\n",
        "https://spark.apache.org/docs/latest/ml-clustering.html"
      ]
    },
    {
      "cell_type": "markdown",
      "metadata": {
        "id": "A8-19x94W86e"
      },
      "source": [
        "### Install Spark"
      ]
    },
    {
      "cell_type": "code",
      "metadata": {
        "id": "I0vUlisqcHb6"
      },
      "source": [
        "!apt-get install openjdk-8-jdk-headless -qq > /dev/null\n",
        "\n",
        "# Get Spark installer (check the path on spark.apache.org)\n",
        "!wget -q http://apache.mirrors.pair.com/spark/spark-2.4.7/spark-2.4.7-bin-hadoop2.7.tgz\n",
        "\n",
        "#Untar the Spark installer\n",
        "!tar -xvf spark-2.4.7-bin-hadoop2.7.tgz\n",
        "\n",
        "# Install findspark - a python library to find Spark\n",
        "!pip install -q findspark\n",
        "\n",
        "# Set environment variables\n",
        "# Set Java and Spark home based on the location where they are stored\n",
        "import os\n",
        "os.environ[\"JAVA_HOME\"] = \"/usr/lib/jvm/java-8-openjdk-amd64\"\n",
        "os.environ[\"SPARK_HOME\"] = \"/content/spark-2.4.7-bin-hadoop2.7\"\n",
        "\n",
        "# Create a local Spark session\n",
        "import findspark\n",
        "findspark.init()\n",
        "from pyspark.sql import SparkSession\n",
        "spark = SparkSession.builder.master(\"local[*]\").getOrCreate()"
      ],
      "execution_count": null,
      "outputs": []
    },
    {
      "cell_type": "code",
      "metadata": {
        "colab": {
          "base_uri": "https://localhost:8080/"
        },
        "id": "dnpmOirtcZSp",
        "outputId": "608bcde9-2cea-4599-d4d2-f4a0db82e13a"
      },
      "source": [
        "# Import the package\n",
        "import pyspark\n",
        "from pyspark import SparkContext\n",
        "from pyspark.sql import SQLContext\n",
        "import pandas as pd\n",
        "import string\n",
        "import re\n",
        "import nltk\n",
        "\n",
        "# Create SparkContextz\n",
        "sc = SparkContext.getOrCreate()\n",
        "print(\"SparkContext : \", sc)\n",
        "\n",
        "# Define spark\n",
        "from pyspark.sql import SparkSession\n",
        "spark = SparkSession.builder.master(\"local[*]\").getOrCreate()"
      ],
      "execution_count": null,
      "outputs": [
        {
          "output_type": "stream",
          "text": [
            "SparkContext :  <SparkContext master=local[*] appName=pyspark-shell>\n"
          ],
          "name": "stdout"
        }
      ]
    },
    {
      "cell_type": "markdown",
      "metadata": {
        "id": "PTWc2hWeXJj6"
      },
      "source": [
        "### 1. Import the data + connect to drive\n"
      ]
    },
    {
      "cell_type": "code",
      "metadata": {
        "colab": {
          "base_uri": "https://localhost:8080/"
        },
        "id": "0VgNFZUZP-j_",
        "outputId": "68ffba0d-a5ec-4f19-aa11-bbd4eee5dd83"
      },
      "source": [
        "# Mount with gdrive\n",
        "from google.colab import drive\n",
        "drive.mount('/content/gdrive')"
      ],
      "execution_count": null,
      "outputs": [
        {
          "output_type": "stream",
          "text": [
            "Mounted at /content/gdrive\n"
          ],
          "name": "stdout"
        }
      ]
    },
    {
      "cell_type": "code",
      "metadata": {
        "colab": {
          "base_uri": "https://localhost:8080/"
        },
        "id": "--piBhSz1T3c",
        "outputId": "411d158a-3c99-4f5b-85df-d45c96a8b64b"
      },
      "source": [
        "os.chdir(\"/content/gdrive/My Drive/IDS561HW4\")\n",
        "!ls"
      ],
      "execution_count": null,
      "outputs": [
        {
          "output_type": "stream",
          "text": [
            "iris.data\n"
          ],
          "name": "stdout"
        }
      ]
    },
    {
      "cell_type": "code",
      "metadata": {
        "colab": {
          "base_uri": "https://localhost:8080/",
          "height": 203
        },
        "id": "Lh4YYhg0e0-g",
        "outputId": "1f3da363-0318-46a3-e026-63ff2eeb40dc"
      },
      "source": [
        "#  Loading CSV file to dataframe\n",
        "# import the data\n",
        "import pandas as pd\n",
        "data = pd.read_csv(\"/content/gdrive/MyDrive/IDS561HW4/iris.data\", header=None)\n",
        "\n",
        "# adding column name to the respective columns\n",
        "data.columns =['sepal_length','sepal_width','petal_length','petal _width','class']\n",
        "\n",
        "# add a row index as a string\n",
        "data['id'] = 'row'+data.index.astype(str)\n",
        "\n",
        "# move it first (left)\n",
        "cols = list(data)\n",
        "cols.insert(0, cols.pop(cols.index('id')))\n",
        "data = data.loc[:, cols]\n",
        "data.head()\n"
      ],
      "execution_count": null,
      "outputs": [
        {
          "output_type": "execute_result",
          "data": {
            "text/html": [
              "<div>\n",
              "<style scoped>\n",
              "    .dataframe tbody tr th:only-of-type {\n",
              "        vertical-align: middle;\n",
              "    }\n",
              "\n",
              "    .dataframe tbody tr th {\n",
              "        vertical-align: top;\n",
              "    }\n",
              "\n",
              "    .dataframe thead th {\n",
              "        text-align: right;\n",
              "    }\n",
              "</style>\n",
              "<table border=\"1\" class=\"dataframe\">\n",
              "  <thead>\n",
              "    <tr style=\"text-align: right;\">\n",
              "      <th></th>\n",
              "      <th>id</th>\n",
              "      <th>sepal_length</th>\n",
              "      <th>sepal_width</th>\n",
              "      <th>petal_length</th>\n",
              "      <th>petal _width</th>\n",
              "      <th>class</th>\n",
              "    </tr>\n",
              "  </thead>\n",
              "  <tbody>\n",
              "    <tr>\n",
              "      <th>0</th>\n",
              "      <td>row0</td>\n",
              "      <td>5.1</td>\n",
              "      <td>3.5</td>\n",
              "      <td>1.4</td>\n",
              "      <td>0.2</td>\n",
              "      <td>Iris-setosa</td>\n",
              "    </tr>\n",
              "    <tr>\n",
              "      <th>1</th>\n",
              "      <td>row1</td>\n",
              "      <td>4.9</td>\n",
              "      <td>3.0</td>\n",
              "      <td>1.4</td>\n",
              "      <td>0.2</td>\n",
              "      <td>Iris-setosa</td>\n",
              "    </tr>\n",
              "    <tr>\n",
              "      <th>2</th>\n",
              "      <td>row2</td>\n",
              "      <td>4.7</td>\n",
              "      <td>3.2</td>\n",
              "      <td>1.3</td>\n",
              "      <td>0.2</td>\n",
              "      <td>Iris-setosa</td>\n",
              "    </tr>\n",
              "    <tr>\n",
              "      <th>3</th>\n",
              "      <td>row3</td>\n",
              "      <td>4.6</td>\n",
              "      <td>3.1</td>\n",
              "      <td>1.5</td>\n",
              "      <td>0.2</td>\n",
              "      <td>Iris-setosa</td>\n",
              "    </tr>\n",
              "    <tr>\n",
              "      <th>4</th>\n",
              "      <td>row4</td>\n",
              "      <td>5.0</td>\n",
              "      <td>3.6</td>\n",
              "      <td>1.4</td>\n",
              "      <td>0.2</td>\n",
              "      <td>Iris-setosa</td>\n",
              "    </tr>\n",
              "  </tbody>\n",
              "</table>\n",
              "</div>"
            ],
            "text/plain": [
              "     id  sepal_length  sepal_width  petal_length  petal _width        class\n",
              "0  row0           5.1          3.5           1.4           0.2  Iris-setosa\n",
              "1  row1           4.9          3.0           1.4           0.2  Iris-setosa\n",
              "2  row2           4.7          3.2           1.3           0.2  Iris-setosa\n",
              "3  row3           4.6          3.1           1.5           0.2  Iris-setosa\n",
              "4  row4           5.0          3.6           1.4           0.2  Iris-setosa"
            ]
          },
          "metadata": {
            "tags": []
          },
          "execution_count": 5
        }
      ]
    },
    {
      "cell_type": "code",
      "metadata": {
        "colab": {
          "base_uri": "https://localhost:8080/"
        },
        "id": "U11_U90XhP3a",
        "outputId": "ee309c16-41fb-4160-a0a1-7050dc577b3d"
      },
      "source": [
        "# Create a Spark DataFrame from a Pandas DataFrame using Arrow\n",
        "df = spark.createDataFrame(data)\n",
        "df.show(5)"
      ],
      "execution_count": null,
      "outputs": [
        {
          "output_type": "stream",
          "text": [
            "+----+------------+-----------+------------+------------+-----------+\n",
            "|  id|sepal_length|sepal_width|petal_length|petal _width|      class|\n",
            "+----+------------+-----------+------------+------------+-----------+\n",
            "|row0|         5.1|        3.5|         1.4|         0.2|Iris-setosa|\n",
            "|row1|         4.9|        3.0|         1.4|         0.2|Iris-setosa|\n",
            "|row2|         4.7|        3.2|         1.3|         0.2|Iris-setosa|\n",
            "|row3|         4.6|        3.1|         1.5|         0.2|Iris-setosa|\n",
            "|row4|         5.0|        3.6|         1.4|         0.2|Iris-setosa|\n",
            "+----+------------+-----------+------------+------------+-----------+\n",
            "only showing top 5 rows\n",
            "\n"
          ],
          "name": "stdout"
        }
      ]
    },
    {
      "cell_type": "markdown",
      "metadata": {
        "id": "dU_Wu6DVLS-L"
      },
      "source": [
        "2. Build a K-means model to classify the species of Iris. You can choose a k value randomly at this step."
      ]
    },
    {
      "cell_type": "code",
      "metadata": {
        "colab": {
          "base_uri": "https://localhost:8080/"
        },
        "id": "gMQ_OcwXZ9G-",
        "outputId": "deee58a1-4a66-490a-fe0a-d2d5d8f7d969"
      },
      "source": [
        "# Import library\n",
        "from __future__ import print_function\n",
        "\n",
        "import numpy as np\n",
        "import pandas as pd\n",
        "import matplotlib.pyplot as plt\n",
        "from mpl_toolkits.mplot3d import Axes3D\n",
        "from sklearn.datasets.samples_generator import make_blobs\n",
        "from pyspark import SparkContext\n",
        "from pyspark.ml.clustering import KMeans\n",
        "from pyspark.ml.feature import VectorAssembler\n",
        "from pyspark.sql import SQLContext\n",
        "\n",
        "%matplotlib inline\n",
        "\n",
        "print (pyspark.__version__)"
      ],
      "execution_count": null,
      "outputs": [
        {
          "output_type": "stream",
          "text": [
            "2.4.7\n"
          ],
          "name": "stdout"
        },
        {
          "output_type": "stream",
          "text": [
            "/usr/local/lib/python3.7/dist-packages/sklearn/utils/deprecation.py:144: FutureWarning: The sklearn.datasets.samples_generator module is  deprecated in version 0.22 and will be removed in version 0.24. The corresponding classes / functions should instead be imported from sklearn.datasets. Anything that cannot be imported from sklearn.datasets is now part of the private API.\n",
            "  warnings.warn(message, FutureWarning)\n"
          ],
          "name": "stderr"
        }
      ]
    },
    {
      "cell_type": "code",
      "metadata": {
        "id": "oYkaNCwbeWDJ",
        "colab": {
          "base_uri": "https://localhost:8080/"
        },
        "outputId": "c0a90028-0b59-47e9-db99-9b93db2ae166"
      },
      "source": [
        "# https://rsandstroem.github.io/sparkkmeans.html\n",
        "# Make features column\n",
        "FEATURES_COL = [\"sepal_length\", \"sepal_width\",\"petal_length\",\"petal_width\"]\n",
        "for col in df.columns:\n",
        "    if col in FEATURES_COL:\n",
        "        df = df.withColumn(col,df[col].cast('float'))\n",
        "df.show(5)\n"
      ],
      "execution_count": null,
      "outputs": [
        {
          "output_type": "stream",
          "text": [
            "+----+------------+-----------+------------+------------+-----------+\n",
            "|  id|sepal_length|sepal_width|petal_length|petal _width|      class|\n",
            "+----+------------+-----------+------------+------------+-----------+\n",
            "|row0|         5.1|        3.5|         1.4|         0.2|Iris-setosa|\n",
            "|row1|         4.9|        3.0|         1.4|         0.2|Iris-setosa|\n",
            "|row2|         4.7|        3.2|         1.3|         0.2|Iris-setosa|\n",
            "|row3|         4.6|        3.1|         1.5|         0.2|Iris-setosa|\n",
            "|row4|         5.0|        3.6|         1.4|         0.2|Iris-setosa|\n",
            "+----+------------+-----------+------------+------------+-----------+\n",
            "only showing top 5 rows\n",
            "\n"
          ],
          "name": "stdout"
        }
      ]
    },
    {
      "cell_type": "code",
      "metadata": {
        "colab": {
          "base_uri": "https://localhost:8080/"
        },
        "id": "aE09pg7iF0cx",
        "outputId": "364b7508-fac9-45f9-c520-0f657ab75ab3"
      },
      "source": [
        "#https://community.intersystems.com/post/k-means-clustering-iris-dataset\n",
        "\n",
        "from pyspark.ml.linalg import Vectors\n",
        "from pyspark.ml.feature import VectorAssembler\n",
        "\n",
        "assembler = VectorAssembler(inputCols = [\"sepal_length\", \"sepal_width\",\"petal_length\", \"petal _width\"],\n",
        "                            outputCol=\"features\") #it makes a vector with 4 parameters mentioned in inputCols and name it as outputCol.\n",
        "\n",
        "irisFeatures = assembler.transform(df) # this will add to the table outputCol column with vectors.\n",
        "irisFeatures.show(5)"
      ],
      "execution_count": null,
      "outputs": [
        {
          "output_type": "stream",
          "text": [
            "+----+------------+-----------+------------+------------+-----------+--------------------+\n",
            "|  id|sepal_length|sepal_width|petal_length|petal _width|      class|            features|\n",
            "+----+------------+-----------+------------+------------+-----------+--------------------+\n",
            "|row0|         5.1|        3.5|         1.4|         0.2|Iris-setosa|[5.09999990463256...|\n",
            "|row1|         4.9|        3.0|         1.4|         0.2|Iris-setosa|[4.90000009536743...|\n",
            "|row2|         4.7|        3.2|         1.3|         0.2|Iris-setosa|[4.69999980926513...|\n",
            "|row3|         4.6|        3.1|         1.5|         0.2|Iris-setosa|[4.59999990463256...|\n",
            "|row4|         5.0|        3.6|         1.4|         0.2|Iris-setosa|[5.0,3.5999999046...|\n",
            "+----+------------+-----------+------------+------------+-----------+--------------------+\n",
            "only showing top 5 rows\n",
            "\n"
          ],
          "name": "stdout"
        }
      ]
    },
    {
      "cell_type": "code",
      "metadata": {
        "id": "2HZ4MLvzHPoK"
      },
      "source": [
        "# Install and import package: KMeans, ClusteringEvaluator\n",
        "# https://towardsdatascience.com/k-means-clustering-using-pyspark-on-big-data-6214beacdc8b\n",
        "# https://medium.com/swlh/k-means-clustering-using-pyspark-on-data-bricks-fd65e207154a\n",
        "\n",
        "from pyspark.ml.clustering import KMeans\n",
        "from pyspark.ml.evaluation import ClusteringEvaluator\n",
        "\n",
        "# Train a k-means model with k = 3\n",
        "kmeans = KMeans().setK(3).setSeed(101)\n",
        "model = kmeans.fit(irisFeatures)\n",
        "predictions = model.transform(irisFeatures)\n",
        "#predictions.show(15)"
      ],
      "execution_count": null,
      "outputs": []
    },
    {
      "cell_type": "markdown",
      "metadata": {
        "id": "oBAeFCQL4T7i"
      },
      "source": [
        "3. Report the original performance using Silhouette score. "
      ]
    },
    {
      "cell_type": "code",
      "metadata": {
        "id": "FOvDFrmHeWQr",
        "colab": {
          "base_uri": "https://localhost:8080/"
        },
        "outputId": "290b0670-d948-4d2f-9636-17c224b58eb9"
      },
      "source": [
        "# Evaluate clustering by computing Silhouette score\n",
        "evaluator = ClusteringEvaluator()\n",
        "silhouette = evaluator.evaluate(predictions)\n",
        "print(\"Silhouette Score = \" + str(silhouette))"
      ],
      "execution_count": null,
      "outputs": [
        {
          "output_type": "stream",
          "text": [
            "Silhouette Score = 0.7342112983712945\n"
          ],
          "name": "stdout"
        }
      ]
    },
    {
      "cell_type": "markdown",
      "metadata": {
        "id": "ioD-4jgn4pCv"
      },
      "source": [
        "4. Try to improve the performance of the original model by trying at least 10 different k values.\n"
      ]
    },
    {
      "cell_type": "code",
      "metadata": {
        "id": "-gFw8r77GH1J",
        "colab": {
          "base_uri": "https://localhost:8080/"
        },
        "outputId": "642887d4-3e33-4bc9-ab7b-cdf7f9aaf71e"
      },
      "source": [
        "# Try different 10 values of K \n",
        "# set initial parameter\n",
        "silhouette_max = 0\n",
        "imax = 0 \n",
        "\n",
        "for i in range(2,12):\n",
        "  # Train a k-means model\n",
        "  kmeans = KMeans().setK(i).setSeed(101)\n",
        "  model = kmeans.fit(irisFeatures)\n",
        "  predictions = model.transform(irisFeatures)\n",
        "\n",
        "  # Evaluate clustering by computing Silhouette score\n",
        "  evaluator = ClusteringEvaluator()\n",
        "  silhouette = evaluator.evaluate(predictions)\n",
        "  print(\"K =\"+ str(i) + \" Silhouette Score = \" + str(silhouette))\n",
        "\n",
        "  if silhouette > silhouette_max:\n",
        "    silhouette_max = silhouette\n",
        "    imax = i\n",
        "\n"
      ],
      "execution_count": null,
      "outputs": [
        {
          "output_type": "stream",
          "text": [
            "K =2 Silhouette Score = 0.8501515988887648\n",
            "K =3 Silhouette Score = 0.7342112983712945\n",
            "K =4 Silhouette Score = 0.6786090224788793\n",
            "K =5 Silhouette Score = 0.5642107559033724\n",
            "K =6 Silhouette Score = 0.6451259926752204\n",
            "K =7 Silhouette Score = 0.522040093038452\n",
            "K =8 Silhouette Score = 0.48449196173363857\n",
            "K =9 Silhouette Score = 0.4700162563790132\n",
            "K =10 Silhouette Score = 0.4924102836125928\n",
            "K =11 Silhouette Score = 0.4239762948562177\n"
          ],
          "name": "stdout"
        }
      ]
    },
    {
      "cell_type": "markdown",
      "metadata": {
        "id": "Bza6DcAg5FM-"
      },
      "source": [
        "5. Select the best k based on step 4 and print out the following sentence in your code:\n",
        "“k=xx gives the best performance, Silhouette =xx \" (replace xx with your own numbers)\""
      ]
    },
    {
      "cell_type": "code",
      "metadata": {
        "id": "2sDnimdBGH4Z",
        "colab": {
          "base_uri": "https://localhost:8080/"
        },
        "outputId": "acb2daac-74ef-41e5-9d1a-620c8428351c"
      },
      "source": [
        "print(\"k=\"+ str(imax) + \" gives the best performance, Silhouette =\"+ str(silhouette_max))"
      ],
      "execution_count": null,
      "outputs": [
        {
          "output_type": "stream",
          "text": [
            "k=2 gives the best performance, Silhouette =0.8501515988887648\n"
          ],
          "name": "stdout"
        }
      ]
    }
  ]
}