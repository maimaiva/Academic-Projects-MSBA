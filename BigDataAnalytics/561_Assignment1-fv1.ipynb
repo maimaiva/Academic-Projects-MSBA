{
 "cells": [
  {
   "cell_type": "markdown",
   "metadata": {
    "id": "jaO7d7q1369E"
   },
   "source": [
    "Team Members: Chaitanya Muppala(UIN:), Supriya RP, Vanisa A"
   ]
  },
  {
   "cell_type": "code",
   "execution_count": 1,
   "metadata": {
    "executionInfo": {
     "elapsed": 563,
     "status": "ok",
     "timestamp": 1613528554993,
     "user": {
      "displayName": "Chaitanya Muppala",
      "photoUrl": "",
      "userId": "05172267214182337547"
     },
     "user_tz": 480
    },
    "id": "RFpXjYqMxxEo"
   },
   "outputs": [],
   "source": [
    "import re\n",
    "import concurrent.futures\n",
    "from _collections import OrderedDict\n",
    "from itertools import chain\n",
    "from operator import itemgetter \n",
    "import pandas as pd"
   ]
  },
  {
   "cell_type": "code",
   "execution_count": 2,
   "metadata": {},
   "outputs": [],
   "source": [
    "with open(\"Pride_and_Prejudice.txt\", \"r\") as file:\n",
    "    txtData = file.read()"
   ]
  },
  {
   "cell_type": "code",
   "execution_count": 3,
   "metadata": {},
   "outputs": [],
   "source": [
    "def cleanData(file):\n",
    "    file_cleaned = re.sub(r'\\d+', '', txtData)\n",
    "    x = file_cleaned.lower()\n",
    "    x2 = x.splitlines()\n",
    "\n",
    "    blank = []\n",
    "    for line in x2:  \n",
    "        if len(line) > 0: \n",
    "            linesp = line.split()                                 #split the line into sublist of words(each line)\n",
    "            temp = []\n",
    "            for word in linesp:                                   #iterate the word in each line\n",
    "              temp.append(\"\".join(re.findall(\"[a-zA-Z]+\", word))) #extract only charactors, append words into sublist \n",
    "            blank.append(temp)\n",
    "    return blank\n"
   ]
  },
  {
   "cell_type": "code",
   "execution_count": 4,
   "metadata": {},
   "outputs": [],
   "source": [
    "def splitdata(data):\n",
    "    \n",
    "  #merge sublist into list\n",
    "  split1 = []\n",
    "  for i in data[0:5000]: \n",
    "    split1 += i\n",
    "    \n",
    "  #merge sublist into list\n",
    "  split2 = []\n",
    "  for i in data[5000:]: \n",
    "    split2 += i\n",
    "\n",
    "  return split1,split2"
   ]
  },
  {
   "cell_type": "code",
   "execution_count": 5,
   "metadata": {
    "executionInfo": {
     "elapsed": 367,
     "status": "ok",
     "timestamp": 1613528591818,
     "user": {
      "displayName": "Chaitanya Muppala",
      "photoUrl": "",
      "userId": "05172267214182337547"
     },
     "user_tz": 480
    },
    "id": "xI9DU3VGxxE4"
   },
   "outputs": [],
   "source": [
    "# mapper function\n",
    "def mapperFunc(input_data):\n",
    "    # Generating [key,value = 1] pairs\n",
    "    output_data = [[x, 1] for x in input_data]\n",
    "    return output_data"
   ]
  },
  {
   "cell_type": "code",
   "execution_count": 6,
   "metadata": {},
   "outputs": [],
   "source": [
    "\n",
    "def sortfunc(sortdata_in): \n",
    " sortdata_in.sort(key = lambda x: x[0]) \n",
    " return sortdata_in\n"
   ]
  },
  {
   "cell_type": "code",
   "execution_count": 7,
   "metadata": {},
   "outputs": [],
   "source": [
    "## Partition two from a-m and n-z words\n",
    "check1 = tuple('abcdefghijklm')\n",
    "check2 = tuple('nopqrstuvwxyz')\n",
    "\n",
    "def partition(check):  \n",
    "  # using startswith()  \n",
    "      res = [idx for idx in sortdata_out if idx[0][0].startswith(check)] \n",
    "      return res\n"
   ]
  },
  {
   "cell_type": "code",
   "execution_count": 8,
   "metadata": {},
   "outputs": [],
   "source": [
    "# Reducer\n",
    "def reducer(partitiondata):\n",
    "    reducedwords = []\n",
    "    count = 1\n",
    "    for i in range(0,len(partitiondata)):\n",
    "        if i < len(partitiondata)-1:\n",
    "              if partitiondata[i] == partitiondata[i+1]:\n",
    "                    count = count+1                              \n",
    "        else :\n",
    "            reducedwords.append([partitiondata[i][0],count])  \n",
    "            count = 1 \n",
    "    else: reducedwords.append(partitiondata[i])             \n",
    "    return reducedwords\n"
   ]
  },
  {
   "cell_type": "code",
   "execution_count": 9,
   "metadata": {
    "colab": {
     "base_uri": "https://localhost:8080/"
    },
    "executionInfo": {
     "elapsed": 629,
     "status": "ok",
     "timestamp": 1613461473566,
     "user": {
      "displayName": "Chaitanya Muppala",
      "photoUrl": "",
      "userId": "05172267214182337547"
     },
     "user_tz": 480
    },
    "id": "rhDXl-2YxxE8",
    "outputId": "596fd43b-b101-4524-be85-6c9983d5bb9d"
   },
   "outputs": [
    {
     "name": "stderr",
     "output_type": "stream",
     "text": [
      "21:12:18: Main: about to set event\n",
      "21:12:18: Main: about to set event\n"
     ]
    }
   ],
   "source": [
    "###KEEP####\n",
    "\n",
    "import concurrent.futures\n",
    "import logging\n",
    "import queue\n",
    "import random\n",
    "import threading\n",
    "import time\n",
    "\n",
    "def producer(queue, event):\n",
    "    \"\"\"Pretend we're getting a number from the network.\"\"\"\n",
    "    while not event.is_set():\n",
    "        message = random.randint(1, 101)\n",
    "        logging.info(\"Producer got message: %s\", message)\n",
    "        queue.put(message)\n",
    "\n",
    "    logging.info(\"Producer received event. Exiting\")\n",
    "\n",
    "def consumer(queue, event):\n",
    "    \"\"\"Pretend we're saving a number in the database.\"\"\"\n",
    "    while not event.is_set() or not queue.empty():\n",
    "        message = queue.get()\n",
    "        logging.info(\n",
    "            \"Consumer storing message: %s (size=%d)\", message, queue.qsize()\n",
    "        )\n",
    "\n",
    "    logging.info(\"Consumer received event. Exiting\")\n",
    "\n",
    "if __name__ == \"__main__\":\n",
    "    format = \"%(asctime)s: %(message)s\"\n",
    "    logging.basicConfig(format=format, level=logging.INFO,\n",
    "                        datefmt=\"%H:%M:%S\")\n",
    "\n",
    "    pipeline = queue.Queue(maxsize=10)\n",
    "    # calling functions\n",
    "    text_final = cleanData(txtData)\n",
    "\n",
    "    # splitting text file for 5000:rest\n",
    "    split1, split2 = splitdata(text_final)\n",
    "\n",
    "\n",
    "    event = threading.Event()\n",
    "    with concurrent.futures.ThreadPoolExecutor() as executor:\n",
    "        thread1 = executor.submit(mapperFunc, split1)\n",
    "        split1 = thread1.result()\n",
    "        thread2 = executor.submit(mapperFunc, split2)\n",
    "        split2 = thread2.result()\n",
    "        time.sleep(0.1)\n",
    "        logging.info(\"Main: about to set event\")\n",
    "        event.set()\n",
    "    #sorting the data\n",
    "    sortdata_in = split1 + split2\n",
    "    sortdata_out = sortfunc(sortdata_in)\n",
    "    #print(sortdata_out)\n",
    "    \n",
    "    # Calling first partition function to get a-m words\n",
    "    partition1 = partition(check1)\n",
    "    #print(partition1)\n",
    "    \n",
    "    # Calling first partition function to get n-z words\n",
    "    partition2 = partition(check2)\n",
    "    #print(partition2)\n",
    "    \n",
    "    #Calling reducer function with multithreading\n",
    "    with concurrent.futures.ThreadPoolExecutor() as executor:\n",
    "        thread3 = executor.submit(reducer, partition1)\n",
    "        reducer1 = thread3.result()\n",
    "        thread4 = executor.submit(reducer, partition2)\n",
    "        reducer2 = thread4.result()\n",
    "        time.sleep(0.1)\n",
    "        logging.info(\"Main: about to set event\")\n",
    "        event.set()\n",
    "    #Combining Reducer Output\n",
    "    reducer_out = reducer1 + reducer2"
   ]
  },
  {
   "cell_type": "markdown",
   "metadata": {
    "id": "pytWiekzw3C9"
   },
   "source": [
    "#Sort Function"
   ]
  },
  {
   "cell_type": "code",
   "execution_count": 10,
   "metadata": {
    "colab": {
     "base_uri": "https://localhost:8080/"
    },
    "executionInfo": {
     "elapsed": 571,
     "status": "ok",
     "timestamp": 1613530055071,
     "user": {
      "displayName": "Chaitanya Muppala",
      "photoUrl": "",
      "userId": "05172267214182337547"
     },
     "user_tz": 480
    },
    "id": "q2037Gyjx460",
    "outputId": "965da16b-9262-4442-a012-9044d83dca38"
   },
   "outputs": [
    {
     "data": {
      "text/plain": [
       "[['my', 56], ['my', 1], ['young', 51], ['young', 1]]"
      ]
     },
     "execution_count": 10,
     "metadata": {},
     "output_type": "execute_result"
    }
   ],
   "source": [
    "reducer_out"
   ]
  },
  {
   "cell_type": "code",
   "execution_count": null,
   "metadata": {},
   "outputs": [],
   "source": [
    "def main():\n",
    "    \n",
    "    #Clean the data\n",
    "    text_final = cleanData(txtData)\n",
    "\n",
    "    #Splitting text file for 5000:rest\n",
    "    split1, split2 = splitdata(text_final)\n",
    "\n",
    "\n",
    "    event = threading.Event()\n",
    "    with concurrent.futures.ThreadPoolExecutor() as executor:\n",
    "        thread1 = executor.submit(mapperFunc, split1)\n",
    "        split1 = thread1.result()\n",
    "        thread2 = executor.submit(mapperFunc, split2)\n",
    "        split2 = thread2.result()\n",
    "        time.sleep(0.1)\n",
    "        logging.info(\"Main: about to set event\")\n",
    "        event.set()\n",
    "    #sorting the data\n",
    "    sortdata_in = split1 + split2\n",
    "    sortdata_out = sortfunc(sortdata_in)\n",
    "    #print(sortdata_out)\n",
    "    \n",
    "    # Calling first partition function to get a-m words\n",
    "    partition1 = partition(check1)\n",
    "    #print(partition1)\n",
    "    \n",
    "    # Calling first partition function to get n-z words\n",
    "    partition2 = partition(check2)\n",
    "    #print(partition2)\n",
    "    \n",
    "    #Calling reducer function with multithreading\n",
    "    with concurrent.futures.ThreadPoolExecutor() as executor:\n",
    "        thread3 = executor.submit(reducer, partition1)\n",
    "        reducer1 = thread3.result()\n",
    "        thread4 = executor.submit(reducer, partition2)\n",
    "        reducer2 = thread4.result()\n",
    "        time.sleep(0.1)\n",
    "        logging.info(\"Main: about to set event\")\n",
    "        event.set()\n",
    "    #Combining Reducer Output\n",
    "    reducer_out = reducer1 + reducer2\n",
    "    \n",
    "    "
   ]
  },
  {
   "cell_type": "code",
   "execution_count": null,
   "metadata": {},
   "outputs": [],
   "source": []
  }
 ],
 "metadata": {
  "colab": {
   "collapsed_sections": [],
   "name": "561_Assignment1-V1.ipynb",
   "provenance": []
  },
  "kernelspec": {
   "display_name": "Python 3",
   "language": "python",
   "name": "python3"
  },
  "language_info": {
   "codemirror_mode": {
    "name": "ipython",
    "version": 3
   },
   "file_extension": ".py",
   "mimetype": "text/x-python",
   "name": "python",
   "nbconvert_exporter": "python",
   "pygments_lexer": "ipython3",
   "version": "3.7.3"
  }
 },
 "nbformat": 4,
 "nbformat_minor": 1
}
